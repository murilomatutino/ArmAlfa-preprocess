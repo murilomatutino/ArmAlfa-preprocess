{
  "cells": [
    {
      "cell_type": "markdown",
      "metadata": {
        "id": "view-in-github",
        "colab_type": "text"
      },
      "source": [
        "<a href=\"https://colab.research.google.com/github/murilomatutino/ArmAlfa-preprocess/blob/main/ArmAlfa_preprocess.ipynb\" target=\"_parent\"><img src=\"https://colab.research.google.com/assets/colab-badge.svg\" alt=\"Open In Colab\"/></a>"
      ]
    },
    {
      "cell_type": "code",
      "execution_count": null,
      "metadata": {
        "id": "GtY_fuH8vRrX"
      },
      "outputs": [],
      "source": [
        "# importando as bibliotecas\n",
        "\n",
        "import os\n",
        "import librosa\n",
        "import math\n",
        "import json\n",
        "import soundfile as sf\n",
        "import pandas as pd\n",
        "import numpy as np\n",
        "import tensorflow as tf"
      ]
    },
    {
      "cell_type": "code",
      "execution_count": null,
      "metadata": {
        "id": "1_hAM09jjha_"
      },
      "outputs": [],
      "source": [
        "# definindo variaveis\n",
        "\n",
        "JSON_PATH = 'drive/MyDrive/IA_ArmAlfa_dataset/data.json'\n",
        "os.makedirs(os.path.dirname(JSON_PATH), exist_ok=True)  # Cria o diretório se ele não existir\n",
        "\n",
        "SAMPLE_RATE = 22050\n",
        "\n",
        "N_FFT = 2048\n",
        "HOP_LENGTH = 512\n",
        "N_MFCC = 13"
      ]
    },
    {
      "cell_type": "code",
      "execution_count": null,
      "metadata": {
        "id": "SlKPgrGrgPbC"
      },
      "outputs": [],
      "source": [
        "metadata = pd.read_csv('drive/MyDrive/UrbanSound8K/metadata/UrbanSound8K.csv')\n",
        "\n",
        "name_sound = metadata['slice_file_name']\n",
        "fold_sound = metadata['fold']\n",
        "class_sound = metadata['classID']"
      ]
    },
    {
      "cell_type": "code",
      "execution_count": null,
      "metadata": {
        "id": "PdFUiTcXjEY1"
      },
      "outputs": [],
      "source": [
        "data ={\n",
        "    \"mapping\": [\"air_conditioner\", \"car_horn\", \"children_playing\", \"dog_bark\", \"drilling\", \"engine_idling\", \"gun_shot\", \"jackhammer\", \"siren\", \"street_music\"],\n",
        "    \"labels\": [],\n",
        "    \"mfcc\": []\n",
        "}\n",
        "\n",
        "for i in range(len(name_sound)):\n",
        "  file_path = f'drive/MyDrive/UrbanSound8K/audio/fold{fold_sound[i]}/{name_sound[i]}'\n",
        "\n",
        "  signal, sr = librosa.load(file_path, sr=SAMPLE_RATE)\n",
        "\n",
        "  # extraindo mfccs\n",
        "  mfcc = librosa.feature.mfcc(y=signal,\n",
        "                              sr=sr,\n",
        "                              n_fft=N_FFT,\n",
        "                              n_mfcc=N_MFCC,\n",
        "                              hop_length=HOP_LENGTH)\n",
        "  mfcc =  mfcc.T\n",
        "\n",
        "  # Converte o espectrograma para um tensor TensorFlow, se ainda não for um.\n",
        "  spectrogram = tf.convert_to_tensor(mfcc)\n",
        "\n",
        "  # Redimensiona o espectrograma para 2024x2024 pixels usando interpolação bilinear.\n",
        "  resized_spectrogram = tf.image.resize(\n",
        "      spectrogram, [2024, 2024], method=tf.image.ResizeMethod.BILINEAR\n",
        "  )\n",
        "\n",
        "  # Converte o espectrograma redimensionado de volta para um array NumPy.\n",
        "  resized_spectrogram = resized_spectrogram.numpy()\n",
        "\n",
        "  # armazenando os dados\n",
        "  data[\"mfcc\"].append(mfcc.tolist())\n",
        "  data[\"labels\"].append(int(class_sound[i]))\n",
        "  print(\"{}, número:{}\".format(file_path, i+1))\n",
        "\n",
        "\n",
        "# gera um arquivo json para armazenar os dados\n",
        "with open(JSON_PATH, \"w\") as fp:\n",
        "    json.dump(data, fp, indent=4)"
      ]
    }
  ],
  "metadata": {
    "colab": {
      "provenance": [],
      "mount_file_id": "12rPZX2s_Ummhde7aMP6n_CritdaDsTKt",
      "authorship_tag": "ABX9TyPYk9ZJl/1ZDEqpCafExTxO",
      "include_colab_link": true
    },
    "kernelspec": {
      "display_name": "Python 3",
      "name": "python3"
    },
    "language_info": {
      "name": "python"
    }
  },
  "nbformat": 4,
  "nbformat_minor": 0
}